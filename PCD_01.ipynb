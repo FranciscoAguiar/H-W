{
  "nbformat": 4,
  "nbformat_minor": 0,
  "metadata": {
    "colab": {
      "name": "PCD-01.ipynb",
      "provenance": [],
      "authorship_tag": "ABX9TyMwdD1WKq1IKwpJ8jcpTBqL",
      "include_colab_link": true
    },
    "kernelspec": {
      "name": "python3",
      "display_name": "Python 3"
    }
  },
  "cells": [
    {
      "cell_type": "markdown",
      "metadata": {
        "id": "view-in-github",
        "colab_type": "text"
      },
      "source": [
        "<a href=\"https://colab.research.google.com/github/FranciscoAguiar/H-W/blob/master/PCD_01.ipynb\" target=\"_parent\"><img src=\"https://colab.research.google.com/assets/colab-badge.svg\" alt=\"Open In Colab\"/></a>"
      ]
    },
    {
      "cell_type": "code",
      "metadata": {
        "id": "wiSCpQ8AdvL2",
        "colab_type": "code",
        "colab": {
          "base_uri": "https://localhost:8080/",
          "height": 34
        },
        "outputId": "80b21f9d-f34c-4acd-c43b-cc58209e6d0a"
      },
      "source": [
        "import time\n",
        "print (time.ctime())\n"
      ],
      "execution_count": 1,
      "outputs": [
        {
          "output_type": "stream",
          "text": [
            "Sat Sep 19 13:41:05 2020\n"
          ],
          "name": "stdout"
        }
      ]
    },
    {
      "cell_type": "code",
      "metadata": {
        "id": "9HLyUTbjksGa",
        "colab_type": "code",
        "colab": {
          "base_uri": "https://localhost:8080/",
          "height": 34
        },
        "outputId": "7b1f8ade-4872-40da-8f5f-129ebe096897"
      },
      "source": [
        "time.sleep(5)\n",
        "print(time.ctime())"
      ],
      "execution_count": 3,
      "outputs": [
        {
          "output_type": "stream",
          "text": [
            "Sat Sep 19 13:41:11 2020\n"
          ],
          "name": "stdout"
        }
      ]
    },
    {
      "cell_type": "markdown",
      "metadata": {
        "id": "9w-ax1b5nSOu",
        "colab_type": "text"
      },
      "source": [
        "**negrito**\n",
        "\n",
        "*italico*\n",
        "\n",
        "~riscada~"
      ]
    },
    {
      "cell_type": "markdown",
      "metadata": {
        "id": "3UXTTm7tpwFS",
        "colab_type": "text"
      },
      "source": [
        "$eˆx=\\sum_{i=0}^\\infty \\frac{1}{i!}x^i$"
      ]
    }
  ]
}